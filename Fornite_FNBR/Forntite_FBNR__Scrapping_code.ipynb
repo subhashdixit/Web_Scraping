{
  "nbformat": 4,
  "nbformat_minor": 0,
  "metadata": {
    "colab": {
      "provenance": [],
      "collapsed_sections": []
    },
    "kernelspec": {
      "name": "python3",
      "display_name": "Python 3"
    },
    "language_info": {
      "name": "python"
    }
  },
  "cells": [
    {
      "cell_type": "code",
      "execution_count": 17,
      "metadata": {
        "colab": {
          "base_uri": "https://localhost:8080/"
        },
        "id": "05kOKn0CGwdi",
        "outputId": "f9b87f60-88bf-4e61-c174-c85283ebb4d6"
      },
      "outputs": [
        {
          "output_type": "stream",
          "name": "stdout",
          "text": [
            "Looking in indexes: https://pypi.org/simple, https://us-python.pkg.dev/colab-wheels/public/simple/\n",
            "Requirement already satisfied: schedule in /usr/local/lib/python3.7/dist-packages (1.1.0)\n"
          ]
        }
      ],
      "source": [
        "import pandas as pd\n",
        "import numpy as np\n",
        "import os\n",
        "import math\n",
        "import datetime\n",
        "from urllib.request import urlopen as uReq, Request\n",
        "from bs4 import BeautifulSoup as soup\n",
        "from tqdm import tqdm\n",
        "!pip install schedule  \n",
        "import schedule\n",
        "import time\n",
        "from datetime import date\n",
        "from datetime import datetime\n",
        "from mimetypes import MimeTypes\n",
        "from datetime import timedelta"
      ]
    },
    {
      "cell_type": "markdown",
      "source": [
        "# **Cleaning Code**"
      ],
      "metadata": {
        "id": "54HhFf_ZLkU6"
      }
    },
    {
      "cell_type": "code",
      "source": [
        "data = pd.read_excel(\"/content/Scraped_and_Cleaned_and_Items_Links.xlsx\", sheet_name = \"Fornite_Scraped_Data_FNBR_21_10\")"
      ],
      "metadata": {
        "id": "PFl9vVnNLnzy"
      },
      "execution_count": 18,
      "outputs": []
    },
    {
      "cell_type": "code",
      "source": [
        "data['Introduction_Season'] = data['Introduction_Season'].apply(lambda x: x.split(\":\")[1])\n",
        "data['Release_Date'] = data['Release_Date'].apply(lambda x: x.split(\":\")[1])\n",
        "data['Last_Seen'] = data['Last_Seen'].apply(lambda x: x.split(\":\")[1])\n",
        "data['Occurences'] = data['Occurences'].apply(lambda x: int(x.split(\":\")[1]))\n",
        "data['Item_Name'] = data['Item_Name'].apply(lambda x: x.replace(\"\\n\",''))\n",
        "data['VC_Cost'] = data['VC_Cost'].apply(lambda x: x.replace(\"\\n\",''))\n",
        "data['Rating'] = data['Rating'].apply(lambda x:  x if \"No\" in x  else float(x.split(\":\")[1].split(\"/\")[0]) )\n",
        "data['Total_Vote'] = data['Total_Vote'].apply(lambda x: float(x.split(\" \")[1]) if \"from\" in x else x )"
      ],
      "metadata": {
        "id": "vqVYYVx_p89j"
      },
      "execution_count": 19,
      "outputs": []
    },
    {
      "cell_type": "code",
      "source": [
        "data"
      ],
      "metadata": {
        "colab": {
          "base_uri": "https://localhost:8080/",
          "height": 607
        },
        "id": "hyZ2hhHVCPcI",
        "outputId": "84b9ddd8-cd7a-4020-974e-858496e9180a"
      },
      "execution_count": 20,
      "outputs": [
        {
          "output_type": "execute_result",
          "data": {
            "text/plain": [
              "      Unnamed: 0 Scrape_Date   Introduction_Season    Release_Date  \\\n",
              "0              0  2022-10-21   Chapter 1, Season 3           Never   \n",
              "1              1  2022-10-21   Chapter 1, Season 3           Never   \n",
              "2              2  2022-10-21   Chapter 1, Season 3           Never   \n",
              "3              3  2022-10-21   Chapter 1, Season 3           Never   \n",
              "4              4  2022-10-21   Chapter 1, Season 3           Never   \n",
              "...          ...         ...                   ...             ...   \n",
              "6906        6906  2022-10-21   Chapter 2, Season 4   Oct 24th 2020   \n",
              "6907        6907  2022-10-21   Chapter 2, Season 6   May 26th 2021   \n",
              "6908        6908  2022-10-21   Chapter 3, Season 1   Dec 21st 2021   \n",
              "6909        6909  2022-10-21   Chapter 3, Season 1   Mar 16th 2022   \n",
              "6910        6910  2022-10-21   Chapter 1, Season 9   Jul 26th 2019   \n",
              "\n",
              "           Last_Seen  Occurences              Item_Name   Item_Type  \\\n",
              "0              Never           0            Dark Matter  Back Bling   \n",
              "1              Never           0              Dark Void  Back Bling   \n",
              "2              Never           0             Dark Wings  Back Bling   \n",
              "3              Never           0   Datafiber Chargepack  Back Bling   \n",
              "4              Never           0              Deflector  Back Bling   \n",
              "...              ...         ...                    ...         ...   \n",
              "6906   Oct 11th 2022           7      Toy Soldier Wraps      Bundle   \n",
              "6907   May 26th 2021           1    Trae Young's Locker      Bundle   \n",
              "6908   Oct 14th 2022          17           White Rabbit      Bundle   \n",
              "6909   Mar 18th 2022           3         Wild Card Wrap      Bundle   \n",
              "6910   Jul 28th 2019           3  World Cup 2019 Banner      Banner   \n",
              "\n",
              "         Rarity        VC_Cost     Rating Total_Vote  \n",
              "0     Legendary   Tier 71 (S3)       4.24       38.0  \n",
              "1     Legendary  Dark Vanguard       4.06       33.0  \n",
              "2     Legendary         Ravage        4.7      117.0  \n",
              "3     Legendary   Page 8 (S18)        4.0        2.0  \n",
              "4     Legendary         Vertex       3.68       25.0  \n",
              "...         ...            ...        ...        ...  \n",
              "6906   Uncommon            400        5.0        1.0  \n",
              "6907   Uncommon          1,700  No Rating         Â   \n",
              "6908   Uncommon            800       4.67        6.0  \n",
              "6909   Uncommon            600        4.0        1.0  \n",
              "6910   Uncommon              0        4.5       18.0  \n",
              "\n",
              "[6911 rows x 12 columns]"
            ],
            "text/html": [
              "\n",
              "  <div id=\"df-226e129a-56ae-4d98-8cc7-765c6b73ba19\">\n",
              "    <div class=\"colab-df-container\">\n",
              "      <div>\n",
              "<style scoped>\n",
              "    .dataframe tbody tr th:only-of-type {\n",
              "        vertical-align: middle;\n",
              "    }\n",
              "\n",
              "    .dataframe tbody tr th {\n",
              "        vertical-align: top;\n",
              "    }\n",
              "\n",
              "    .dataframe thead th {\n",
              "        text-align: right;\n",
              "    }\n",
              "</style>\n",
              "<table border=\"1\" class=\"dataframe\">\n",
              "  <thead>\n",
              "    <tr style=\"text-align: right;\">\n",
              "      <th></th>\n",
              "      <th>Unnamed: 0</th>\n",
              "      <th>Scrape_Date</th>\n",
              "      <th>Introduction_Season</th>\n",
              "      <th>Release_Date</th>\n",
              "      <th>Last_Seen</th>\n",
              "      <th>Occurences</th>\n",
              "      <th>Item_Name</th>\n",
              "      <th>Item_Type</th>\n",
              "      <th>Rarity</th>\n",
              "      <th>VC_Cost</th>\n",
              "      <th>Rating</th>\n",
              "      <th>Total_Vote</th>\n",
              "    </tr>\n",
              "  </thead>\n",
              "  <tbody>\n",
              "    <tr>\n",
              "      <th>0</th>\n",
              "      <td>0</td>\n",
              "      <td>2022-10-21</td>\n",
              "      <td>Chapter 1, Season 3</td>\n",
              "      <td>Never</td>\n",
              "      <td>Never</td>\n",
              "      <td>0</td>\n",
              "      <td>Dark Matter</td>\n",
              "      <td>Back Bling</td>\n",
              "      <td>Legendary</td>\n",
              "      <td>Tier 71 (S3)</td>\n",
              "      <td>4.24</td>\n",
              "      <td>38.0</td>\n",
              "    </tr>\n",
              "    <tr>\n",
              "      <th>1</th>\n",
              "      <td>1</td>\n",
              "      <td>2022-10-21</td>\n",
              "      <td>Chapter 1, Season 3</td>\n",
              "      <td>Never</td>\n",
              "      <td>Never</td>\n",
              "      <td>0</td>\n",
              "      <td>Dark Void</td>\n",
              "      <td>Back Bling</td>\n",
              "      <td>Legendary</td>\n",
              "      <td>Dark Vanguard</td>\n",
              "      <td>4.06</td>\n",
              "      <td>33.0</td>\n",
              "    </tr>\n",
              "    <tr>\n",
              "      <th>2</th>\n",
              "      <td>2</td>\n",
              "      <td>2022-10-21</td>\n",
              "      <td>Chapter 1, Season 3</td>\n",
              "      <td>Never</td>\n",
              "      <td>Never</td>\n",
              "      <td>0</td>\n",
              "      <td>Dark Wings</td>\n",
              "      <td>Back Bling</td>\n",
              "      <td>Legendary</td>\n",
              "      <td>Ravage</td>\n",
              "      <td>4.7</td>\n",
              "      <td>117.0</td>\n",
              "    </tr>\n",
              "    <tr>\n",
              "      <th>3</th>\n",
              "      <td>3</td>\n",
              "      <td>2022-10-21</td>\n",
              "      <td>Chapter 1, Season 3</td>\n",
              "      <td>Never</td>\n",
              "      <td>Never</td>\n",
              "      <td>0</td>\n",
              "      <td>Datafiber Chargepack</td>\n",
              "      <td>Back Bling</td>\n",
              "      <td>Legendary</td>\n",
              "      <td>Page 8 (S18)</td>\n",
              "      <td>4.0</td>\n",
              "      <td>2.0</td>\n",
              "    </tr>\n",
              "    <tr>\n",
              "      <th>4</th>\n",
              "      <td>4</td>\n",
              "      <td>2022-10-21</td>\n",
              "      <td>Chapter 1, Season 3</td>\n",
              "      <td>Never</td>\n",
              "      <td>Never</td>\n",
              "      <td>0</td>\n",
              "      <td>Deflector</td>\n",
              "      <td>Back Bling</td>\n",
              "      <td>Legendary</td>\n",
              "      <td>Vertex</td>\n",
              "      <td>3.68</td>\n",
              "      <td>25.0</td>\n",
              "    </tr>\n",
              "    <tr>\n",
              "      <th>...</th>\n",
              "      <td>...</td>\n",
              "      <td>...</td>\n",
              "      <td>...</td>\n",
              "      <td>...</td>\n",
              "      <td>...</td>\n",
              "      <td>...</td>\n",
              "      <td>...</td>\n",
              "      <td>...</td>\n",
              "      <td>...</td>\n",
              "      <td>...</td>\n",
              "      <td>...</td>\n",
              "      <td>...</td>\n",
              "    </tr>\n",
              "    <tr>\n",
              "      <th>6906</th>\n",
              "      <td>6906</td>\n",
              "      <td>2022-10-21</td>\n",
              "      <td>Chapter 2, Season 4</td>\n",
              "      <td>Oct 24th 2020</td>\n",
              "      <td>Oct 11th 2022</td>\n",
              "      <td>7</td>\n",
              "      <td>Toy Soldier Wraps</td>\n",
              "      <td>Bundle</td>\n",
              "      <td>Uncommon</td>\n",
              "      <td>400</td>\n",
              "      <td>5.0</td>\n",
              "      <td>1.0</td>\n",
              "    </tr>\n",
              "    <tr>\n",
              "      <th>6907</th>\n",
              "      <td>6907</td>\n",
              "      <td>2022-10-21</td>\n",
              "      <td>Chapter 2, Season 6</td>\n",
              "      <td>May 26th 2021</td>\n",
              "      <td>May 26th 2021</td>\n",
              "      <td>1</td>\n",
              "      <td>Trae Young's Locker</td>\n",
              "      <td>Bundle</td>\n",
              "      <td>Uncommon</td>\n",
              "      <td>1,700</td>\n",
              "      <td>No Rating</td>\n",
              "      <td>Â</td>\n",
              "    </tr>\n",
              "    <tr>\n",
              "      <th>6908</th>\n",
              "      <td>6908</td>\n",
              "      <td>2022-10-21</td>\n",
              "      <td>Chapter 3, Season 1</td>\n",
              "      <td>Dec 21st 2021</td>\n",
              "      <td>Oct 14th 2022</td>\n",
              "      <td>17</td>\n",
              "      <td>White Rabbit</td>\n",
              "      <td>Bundle</td>\n",
              "      <td>Uncommon</td>\n",
              "      <td>800</td>\n",
              "      <td>4.67</td>\n",
              "      <td>6.0</td>\n",
              "    </tr>\n",
              "    <tr>\n",
              "      <th>6909</th>\n",
              "      <td>6909</td>\n",
              "      <td>2022-10-21</td>\n",
              "      <td>Chapter 3, Season 1</td>\n",
              "      <td>Mar 16th 2022</td>\n",
              "      <td>Mar 18th 2022</td>\n",
              "      <td>3</td>\n",
              "      <td>Wild Card Wrap</td>\n",
              "      <td>Bundle</td>\n",
              "      <td>Uncommon</td>\n",
              "      <td>600</td>\n",
              "      <td>4.0</td>\n",
              "      <td>1.0</td>\n",
              "    </tr>\n",
              "    <tr>\n",
              "      <th>6910</th>\n",
              "      <td>6910</td>\n",
              "      <td>2022-10-21</td>\n",
              "      <td>Chapter 1, Season 9</td>\n",
              "      <td>Jul 26th 2019</td>\n",
              "      <td>Jul 28th 2019</td>\n",
              "      <td>3</td>\n",
              "      <td>World Cup 2019 Banner</td>\n",
              "      <td>Banner</td>\n",
              "      <td>Uncommon</td>\n",
              "      <td>0</td>\n",
              "      <td>4.5</td>\n",
              "      <td>18.0</td>\n",
              "    </tr>\n",
              "  </tbody>\n",
              "</table>\n",
              "<p>6911 rows × 12 columns</p>\n",
              "</div>\n",
              "      <button class=\"colab-df-convert\" onclick=\"convertToInteractive('df-226e129a-56ae-4d98-8cc7-765c6b73ba19')\"\n",
              "              title=\"Convert this dataframe to an interactive table.\"\n",
              "              style=\"display:none;\">\n",
              "        \n",
              "  <svg xmlns=\"http://www.w3.org/2000/svg\" height=\"24px\"viewBox=\"0 0 24 24\"\n",
              "       width=\"24px\">\n",
              "    <path d=\"M0 0h24v24H0V0z\" fill=\"none\"/>\n",
              "    <path d=\"M18.56 5.44l.94 2.06.94-2.06 2.06-.94-2.06-.94-.94-2.06-.94 2.06-2.06.94zm-11 1L8.5 8.5l.94-2.06 2.06-.94-2.06-.94L8.5 2.5l-.94 2.06-2.06.94zm10 10l.94 2.06.94-2.06 2.06-.94-2.06-.94-.94-2.06-.94 2.06-2.06.94z\"/><path d=\"M17.41 7.96l-1.37-1.37c-.4-.4-.92-.59-1.43-.59-.52 0-1.04.2-1.43.59L10.3 9.45l-7.72 7.72c-.78.78-.78 2.05 0 2.83L4 21.41c.39.39.9.59 1.41.59.51 0 1.02-.2 1.41-.59l7.78-7.78 2.81-2.81c.8-.78.8-2.07 0-2.86zM5.41 20L4 18.59l7.72-7.72 1.47 1.35L5.41 20z\"/>\n",
              "  </svg>\n",
              "      </button>\n",
              "      \n",
              "  <style>\n",
              "    .colab-df-container {\n",
              "      display:flex;\n",
              "      flex-wrap:wrap;\n",
              "      gap: 12px;\n",
              "    }\n",
              "\n",
              "    .colab-df-convert {\n",
              "      background-color: #E8F0FE;\n",
              "      border: none;\n",
              "      border-radius: 50%;\n",
              "      cursor: pointer;\n",
              "      display: none;\n",
              "      fill: #1967D2;\n",
              "      height: 32px;\n",
              "      padding: 0 0 0 0;\n",
              "      width: 32px;\n",
              "    }\n",
              "\n",
              "    .colab-df-convert:hover {\n",
              "      background-color: #E2EBFA;\n",
              "      box-shadow: 0px 1px 2px rgba(60, 64, 67, 0.3), 0px 1px 3px 1px rgba(60, 64, 67, 0.15);\n",
              "      fill: #174EA6;\n",
              "    }\n",
              "\n",
              "    [theme=dark] .colab-df-convert {\n",
              "      background-color: #3B4455;\n",
              "      fill: #D2E3FC;\n",
              "    }\n",
              "\n",
              "    [theme=dark] .colab-df-convert:hover {\n",
              "      background-color: #434B5C;\n",
              "      box-shadow: 0px 1px 3px 1px rgba(0, 0, 0, 0.15);\n",
              "      filter: drop-shadow(0px 1px 2px rgba(0, 0, 0, 0.3));\n",
              "      fill: #FFFFFF;\n",
              "    }\n",
              "  </style>\n",
              "\n",
              "      <script>\n",
              "        const buttonEl =\n",
              "          document.querySelector('#df-226e129a-56ae-4d98-8cc7-765c6b73ba19 button.colab-df-convert');\n",
              "        buttonEl.style.display =\n",
              "          google.colab.kernel.accessAllowed ? 'block' : 'none';\n",
              "\n",
              "        async function convertToInteractive(key) {\n",
              "          const element = document.querySelector('#df-226e129a-56ae-4d98-8cc7-765c6b73ba19');\n",
              "          const dataTable =\n",
              "            await google.colab.kernel.invokeFunction('convertToInteractive',\n",
              "                                                     [key], {});\n",
              "          if (!dataTable) return;\n",
              "\n",
              "          const docLinkHtml = 'Like what you see? Visit the ' +\n",
              "            '<a target=\"_blank\" href=https://colab.research.google.com/notebooks/data_table.ipynb>data table notebook</a>'\n",
              "            + ' to learn more about interactive tables.';\n",
              "          element.innerHTML = '';\n",
              "          dataTable['output_type'] = 'display_data';\n",
              "          await google.colab.output.renderOutput(dataTable, element);\n",
              "          const docLink = document.createElement('div');\n",
              "          docLink.innerHTML = docLinkHtml;\n",
              "          element.appendChild(docLink);\n",
              "        }\n",
              "      </script>\n",
              "    </div>\n",
              "  </div>\n",
              "  "
            ]
          },
          "metadata": {},
          "execution_count": 20
        }
      ]
    },
    {
      "cell_type": "code",
      "source": [
        "# from google.colab import files\n",
        "# data.to_csv('Fornite_Cleaned_Data_FNBR_21_OCT_2022.csv')\n",
        "# files.download('Fornite_Cleaned_Data_FNBR_21_OCT_2022.csv')"
      ],
      "metadata": {
        "colab": {
          "base_uri": "https://localhost:8080/",
          "height": 17
        },
        "id": "xKokO8eOL3rI",
        "outputId": "4c41c389-5f53-4819-a0d0-cbd8dffb0408"
      },
      "execution_count": 4,
      "outputs": [
        {
          "output_type": "display_data",
          "data": {
            "text/plain": [
              "<IPython.core.display.Javascript object>"
            ],
            "application/javascript": [
              "\n",
              "    async function download(id, filename, size) {\n",
              "      if (!google.colab.kernel.accessAllowed) {\n",
              "        return;\n",
              "      }\n",
              "      const div = document.createElement('div');\n",
              "      const label = document.createElement('label');\n",
              "      label.textContent = `Downloading \"${filename}\": `;\n",
              "      div.appendChild(label);\n",
              "      const progress = document.createElement('progress');\n",
              "      progress.max = size;\n",
              "      div.appendChild(progress);\n",
              "      document.body.appendChild(div);\n",
              "\n",
              "      const buffers = [];\n",
              "      let downloaded = 0;\n",
              "\n",
              "      const channel = await google.colab.kernel.comms.open(id);\n",
              "      // Send a message to notify the kernel that we're ready.\n",
              "      channel.send({})\n",
              "\n",
              "      for await (const message of channel.messages) {\n",
              "        // Send a message to notify the kernel that we're ready.\n",
              "        channel.send({})\n",
              "        if (message.buffers) {\n",
              "          for (const buffer of message.buffers) {\n",
              "            buffers.push(buffer);\n",
              "            downloaded += buffer.byteLength;\n",
              "            progress.value = downloaded;\n",
              "          }\n",
              "        }\n",
              "      }\n",
              "      const blob = new Blob(buffers, {type: 'application/binary'});\n",
              "      const a = document.createElement('a');\n",
              "      a.href = window.URL.createObjectURL(blob);\n",
              "      a.download = filename;\n",
              "      div.appendChild(a);\n",
              "      a.click();\n",
              "      div.remove();\n",
              "    }\n",
              "  "
            ]
          },
          "metadata": {}
        },
        {
          "output_type": "display_data",
          "data": {
            "text/plain": [
              "<IPython.core.display.Javascript object>"
            ],
            "application/javascript": [
              "download(\"download_73506f85-6635-4cae-8c65-a332d5b335f1\", \"Fornite_Cleaned_Data_FNBR_21_OCT_2022.csv\", 802227)"
            ]
          },
          "metadata": {}
        }
      ]
    },
    {
      "cell_type": "markdown",
      "source": [
        "# **Scraping Code**"
      ],
      "metadata": {
        "id": "0oP1GknMLg44"
      }
    },
    {
      "cell_type": "code",
      "source": [
        "# All_Links = pd.read_excel(\"/content/Scraped_and_Cleaned_and_Items_Links.xlsx\", sheet_name = \"All_Items_Links\")\n",
        "# All_Links = All_Links.iloc[ : , :1]\n",
        "# All_Links = All_Links.squeeze()\n",
        "# All_Links = All_Links.values.tolist()"
      ],
      "metadata": {
        "id": "O5UdEwztbTv1"
      },
      "execution_count": 5,
      "outputs": []
    },
    {
      "cell_type": "code",
      "source": [
        "# Scrape_Date = date.today()"
      ],
      "metadata": {
        "id": "sBXGXevzG2Nv"
      },
      "execution_count": 6,
      "outputs": []
    },
    {
      "cell_type": "code",
      "source": [
        "# data_df = pd.DataFrame(columns=[\"Scrape_Date\",\"Introduction_Season\",\"Release_Date\",\"Last_Seen\",\"Occurences\",\"Item_Name\",\"Item_Type\",\"Rarity\",\"VC_Cost\",\"Rating\", \"Total_Vote\"])"
      ],
      "metadata": {
        "id": "-6ALAYRcMurN"
      },
      "execution_count": 7,
      "outputs": []
    },
    {
      "cell_type": "code",
      "source": [
        "# for i in All_Links:\n",
        "#   try:\n",
        "#     print(All_Links.index(i))\n",
        "#     my_url = i\n",
        "#     req = Request(my_url,headers={'User-Agent':'Mozilla/5.0'})\n",
        "#     page_html = uReq(req).read()\n",
        "#     page_soup = soup(page_html,\"html.parser\")\n",
        "#     div_tags = page_soup.find(\"div\", {\"class\": \"col-md-9 col-12 item-full\"})\n",
        "#     Item_Name = div_tags.find(\"h1\",{'class':'item-title'}).getText()\n",
        "#     Rarity = div_tags.find('h3',{'class':'type-rarity-string'}).find_all('span')[0].getText()\n",
        "#     Item_Type = div_tags.find('h3',{'class':'type-rarity-string'}).find_all('span')[1].getText()\n",
        "#     for i in div_tags.find('div',{'class':'shop-data-container'}).find_all('p'):\n",
        "#       if \"Introduced\" in i.getText():\n",
        "#         Introduction_Season = i.getText()\n",
        "#       elif \"Release Date\" in i.getText():\n",
        "#         Release_Date = i.getText()\n",
        "#       elif \"Last Seen\" in i.getText():\n",
        "#         Last_Seen = i.getText()\n",
        "#       elif \"Occurrences\" in i.getText():\n",
        "#         Occurences = i.getText()\n",
        "#     VC_Cost = div_tags.find(\"p\",{'class':'item-price'}).getText()\n",
        "#     Rating = div_tags.find(\"div\",{'class':'col-md-6 col-12 rating-text'}).find_all('p')[0].getText()\n",
        "#     Total_Vote =  div_tags.find(\"div\",{'class':'col-md-6 col-12 rating-text'}).find_all('p')[1].getText()\n",
        "#     data_df= data_df.append(pd.DataFrame(columns=[\"Scrape_Date\",\"Introduction_Season\",\"Release_Date\",\"Last_Seen\",\"Occurences\",\"Item_Name\",\"Item_Type\",\"Rarity\",\"VC_Cost\",\"Rating\", \"Total_Vote\"],\n",
        "#                                   data = [[Scrape_Date,Introduction_Season,Release_Date,Last_Seen,Occurences,Item_Name,Item_Type,Rarity,VC_Cost,Rating,Total_Vote\n",
        "#                                           ]]),ignore_index=True)\n",
        "#   except Exception as e:\n",
        "#     print(e)"
      ],
      "metadata": {
        "id": "OZFalZBiaJp2"
      },
      "execution_count": 8,
      "outputs": []
    },
    {
      "cell_type": "code",
      "source": [
        "# data_df"
      ],
      "metadata": {
        "id": "r8Yuc13ybP4y"
      },
      "execution_count": 9,
      "outputs": []
    },
    {
      "cell_type": "code",
      "source": [
        "# from google.colab import files\n",
        "# data_df.to_csv('Fornite_Scraped_Data_FNBR_21_OCT_2022.csv')\n",
        "# files.download('Fornite_Scraped_Data_FNBR_21_OCT_2022.csv')"
      ],
      "metadata": {
        "id": "MEa9dzHQefZU"
      },
      "execution_count": 10,
      "outputs": []
    },
    {
      "cell_type": "markdown",
      "source": [
        "# **For Individual Link**"
      ],
      "metadata": {
        "id": "H2NUeLyOaOo2"
      }
    },
    {
      "cell_type": "code",
      "source": [
        "# my_url = f'https://fnbr.co/bundle/black-ice-legends-pack'\n",
        "# req = Request(my_url,headers={'User-Agent':'Mozilla/5.0'})\n",
        "# page_html = uReq(req).read()\n",
        "# page_soup = soup(page_html,\"html.parser\") "
      ],
      "metadata": {
        "id": "qhh0dQBvd1eo"
      },
      "execution_count": 11,
      "outputs": []
    },
    {
      "cell_type": "code",
      "source": [
        "# div_tags = page_soup.find(\"div\", {\"class\": \"col-md-9 col-12 item-full\"})"
      ],
      "metadata": {
        "id": "4kKi29PTaLl_"
      },
      "execution_count": 12,
      "outputs": []
    },
    {
      "cell_type": "code",
      "source": [
        "# Item_Name = div_tags.find(\"h1\",{'class':'item-title'}).getText()\n",
        "# Rarity = div_tags.find('h3',{'class':'type-rarity-string'}).find_all('span')[0].getText()\n",
        "# Item_Type = div_tags.find('h3',{'class':'type-rarity-string'}).find_all('span')[1].getText()\n",
        "# Release_Date = div_tags.find('div',{'class':'shop-data-container'}).find_all('p')[0].getText()\n",
        "# Last_Seen = div_tags.find('div',{'class':'shop-data-container'}).find_all('p')[1].getText()\n",
        "# Occurences = div_tags.find('div',{'class':'shop-data-container'}).find_all('p')[2].getText()\n",
        "# VC_Cost = div_tags.find(\"p\",{'class':'item-price'}).getText()\n",
        "# Rating = div_tags.find(\"div\",{'class':'col-md-6 col-12 rating-text'}).find_all('p')[0].getText()\n",
        "# Total_Vote =  div_tags.find(\"div\",{'class':'col-md-6 col-12 rating-text'}).find_all('p')[1].getText()"
      ],
      "metadata": {
        "id": "uS0VukYYOOIc"
      },
      "execution_count": 13,
      "outputs": []
    },
    {
      "cell_type": "code",
      "source": [
        "# for i in div_tags.find('div',{'class':'shop-data-container'}).find_all('p'):\n",
        "#   # print(i.getText())\n",
        "#   if \"Introduced\" in i.getText():\n",
        "#     print(i.getText())\n",
        "#   elif \"Release Date\" in i.getText():\n",
        "#     print(i.getText())\n",
        "#   elif \"Last Seen\" in i.getText():\n",
        "#     print(i.getText())\n",
        "#   elif \"Occurrences\" in i.getText():\n",
        "#     print(i.getText())"
      ],
      "metadata": {
        "id": "YXzMZ2elOrfR"
      },
      "execution_count": 14,
      "outputs": []
    },
    {
      "cell_type": "code",
      "source": [
        "# data_df= data_df.append(pd.DataFrame(columns=[\"Scrape_Date\",\"Release_Date\",\"Last_Seen\",\"Occurences\",\"Item_Name\",\"Item_Type\",\"Rarity\",\"VC_Cost\",\"Rating\", \"Total_Vote\"],\n",
        "#                                 data = [[Scrape_Date,Release_Date,Last_Seen,Occurences,Item_Name,Item_Type,Rarity,VC_Cost,Rating,Total_Vote\n",
        "#                                         ]]),ignore_index=True)"
      ],
      "metadata": {
        "id": "UKiM9FUlXSIc"
      },
      "execution_count": 15,
      "outputs": []
    },
    {
      "cell_type": "code",
      "source": [
        "# print(f\"Item_Name : {Item_Name}\")\n",
        "# print(f\"Rarity : {Rarity}\")\n",
        "# print(f\"Item_Type : {Item_Type}\")\n",
        "# print(f\"Release_Date : {Release_Date}\")\n",
        "# print(f\"Last_Seen : {Last_Seen}\")\n",
        "# print(f\"Occurences : {Occurences}\")\n",
        "# print(f\"VC_Cost : {VC_Cost}\")\n",
        "# print(f\"Rating : {Rating}\")\n",
        "# print(f\"Total_Vote : {Total_Vote}\")"
      ],
      "metadata": {
        "id": "UwlUs3pxP8Gz"
      },
      "execution_count": 16,
      "outputs": []
    }
  ]
}